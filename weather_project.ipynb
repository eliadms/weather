{
  "nbformat": 4,
  "nbformat_minor": 0,
  "metadata": {
    "colab": {
      "provenance": [],
      "authorship_tag": "ABX9TyOOEBr1HwqN9I6afXpJdvFW",
      "include_colab_link": true
    },
    "kernelspec": {
      "name": "python3",
      "display_name": "Python 3"
    },
    "language_info": {
      "name": "python"
    }
  },
  "cells": [
    {
      "cell_type": "markdown",
      "metadata": {
        "id": "view-in-github",
        "colab_type": "text"
      },
      "source": [
        "<a href=\"https://colab.research.google.com/github/eliadms/weather/blob/main/weather_project.ipynb\" target=\"_parent\"><img src=\"https://colab.research.google.com/assets/colab-badge.svg\" alt=\"Open In Colab\"/></a>"
      ]
    },
    {
      "cell_type": "code",
      "execution_count": 1,
      "metadata": {
        "colab": {
          "base_uri": "https://localhost:8080/"
        },
        "id": "cgllTa8GtMhd",
        "outputId": "bfcdb4ce-b6a4-4634-e7ba-cfe63baf8be4"
      },
      "outputs": [
        {
          "name": "stdout",
          "output_type": "stream",
          "text": [
            "(mandatory) please enter your city paris\n",
            "(optional)  please enter your country in 2 letters format (eg: IL for israel) \n",
            "default language is English, to change to Hebrew please enter H \n"
          ]
        }
      ],
      "source": [
        "\n",
        "\n",
        "# Ask the user for his city and country\n",
        "choose = 0\n",
        "city = input(\"(mandatory) please enter your city \")\n",
        "country = input(\"(optional)  please enter your country in 2 letters format (eg: IL for israel) \")\n",
        "choose = input(\"default language is English, to change to Hebrew please enter H \")"
      ]
    },
    {
      "cell_type": "code",
      "source": [
        "import requests\n",
        "from datetime import datetime\n",
        "\n",
        "now = datetime.now()\n",
        "api_key = \"fe4fdf284ef158c6ec2156ae273180d3\" # my private api openweathermap key, generated on their website\n",
        "url = f\"https://api.openweathermap.org/data/2.5/weather?q={city},{country}&APPID={api_key}&units=metric\" # use f-string to insert city, country and api key to the endpoint\n",
        "url_he = url + '&lang=he'\n",
        "if choose.upper() == \"H\":\n",
        "  response = requests.get(url_he)\n",
        "else:\n",
        "  response = requests.get(url)\n",
        "\n",
        "if response.status_code == 200: # code 200 = the request was OK\n",
        "    data = response.json() # parse JSON into python dictionary\n",
        "    temprature = data['main']['temp']\n",
        "    weather_condition = data['weather'][0]['description']\n",
        "    humidity = data['main']['humidity']\n",
        "    city_name = data['name']\n",
        "else:\n",
        "    print(f\"Failed to retrieve data: {response.status_code}\")\n",
        "\n",
        "if choose.upper() == \"H\": # print weather in Hebrew\n",
        "    print(f\"\\nתחזית מזג האויר עבור העיר {city_name}:\")\n",
        "    print(f\"הטמפרטורה עכשיו היא {temprature} מעלות צלסיוס\")\n",
        "    print(f\"תנאי מזג האויר הם {weather_condition}\")\n",
        "    print(f\"אחוזי הלחות הם {humidity}%\")\n",
        "\n",
        "else: # print weather in English\n",
        "    print(f\"\\nWeather forcast for the city {city_name}:\")\n",
        "    print(f\"The temprature now is {temprature}C\")\n",
        "    print(f\"weather condition is {weather_condition}\")\n",
        "    print(f\"The humidity is {humidity}%\")\n",
        "    print(f\"the current date and time is {now}:\")\n"
      ],
      "metadata": {
        "id": "a3cfR14wt4-y",
        "colab": {
          "base_uri": "https://localhost:8080/"
        },
        "outputId": "c001e988-6e8c-4848-cd18-c0b1ec13114b"
      },
      "execution_count": 2,
      "outputs": [
        {
          "output_type": "stream",
          "name": "stdout",
          "text": [
            "\n",
            "Weather forcast for the city Paris:\n",
            "The temprature now is 12.95C\n",
            "weather condition is moderate rain\n",
            "The humidity is 93%\n",
            "the current date and time is 2024-06-16 06:13:14.762988:\n"
          ]
        }
      ]
    }
  ]
}